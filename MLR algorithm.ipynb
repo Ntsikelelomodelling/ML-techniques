{
 "cells": [
  {
   "cell_type": "markdown",
   "metadata": {},
   "source": [
    "# Multiple linear regression model"
   ]
  },
  {
   "cell_type": "code",
   "execution_count": 12,
   "metadata": {},
   "outputs": [],
   "source": [
    "# library for data analsysis\n",
    "import numpy as np\n",
    "\n",
    "# library to handle data in a vectorized manner\n",
    "import pandas as pd\n",
    "\n",
    "## Matplotlib and associated plotting modules\n",
    "import matplotlib.pyplot as plt\n",
    "\n",
    "# To access statistics functions\n",
    "import scipy.stats as ss\n",
    "from sklearn.model_selection import train_test_split\n",
    "from sklearn import preprocessing\n",
    "# Inpmort linear regression function \n",
    "from sklearn.linear_model import LinearRegression\n",
    "\n",
    "# To compute the square root function \n",
    "from math import sqrt\n",
    "\n",
    "# Optinal, but execution of this command ensures the plot displayed directly below the code cell that produced it. \n",
    "# The resulting plots will then also be stored in the notebook document.\n",
    "%matplotlib inline\n",
    "import matplotlib\n",
    "font = {'family' : 'Times new Roman',\n",
    "        'size'   : 15}\n",
    "\n",
    "matplotlib.rc('font', **font)"
   ]
  },
  {
   "cell_type": "markdown",
   "metadata": {},
   "source": [
    "## Load the data. "
   ]
  },
  {
   "cell_type": "code",
   "execution_count": 13,
   "metadata": {},
   "outputs": [
    {
     "data": {
      "text/html": [
       "<div>\n",
       "<style scoped>\n",
       "    .dataframe tbody tr th:only-of-type {\n",
       "        vertical-align: middle;\n",
       "    }\n",
       "\n",
       "    .dataframe tbody tr th {\n",
       "        vertical-align: top;\n",
       "    }\n",
       "\n",
       "    .dataframe thead th {\n",
       "        text-align: right;\n",
       "    }\n",
       "</style>\n",
       "<table border=\"1\" class=\"dataframe\">\n",
       "  <thead>\n",
       "    <tr style=\"text-align: right;\">\n",
       "      <th></th>\n",
       "      <th>Person</th>\n",
       "      <th>gender</th>\n",
       "      <th>Age</th>\n",
       "      <th>Height</th>\n",
       "      <th>pre.weight</th>\n",
       "      <th>Diet</th>\n",
       "      <th>weight6weeks</th>\n",
       "    </tr>\n",
       "  </thead>\n",
       "  <tbody>\n",
       "    <tr>\n",
       "      <td>0</td>\n",
       "      <td>25</td>\n",
       "      <td>0</td>\n",
       "      <td>41</td>\n",
       "      <td>171</td>\n",
       "      <td>60</td>\n",
       "      <td>2</td>\n",
       "      <td>60.0</td>\n",
       "    </tr>\n",
       "    <tr>\n",
       "      <td>1</td>\n",
       "      <td>26</td>\n",
       "      <td>0</td>\n",
       "      <td>32</td>\n",
       "      <td>174</td>\n",
       "      <td>103</td>\n",
       "      <td>2</td>\n",
       "      <td>103.0</td>\n",
       "    </tr>\n",
       "    <tr>\n",
       "      <td>2</td>\n",
       "      <td>1</td>\n",
       "      <td>0</td>\n",
       "      <td>22</td>\n",
       "      <td>159</td>\n",
       "      <td>58</td>\n",
       "      <td>1</td>\n",
       "      <td>54.2</td>\n",
       "    </tr>\n",
       "    <tr>\n",
       "      <td>3</td>\n",
       "      <td>2</td>\n",
       "      <td>0</td>\n",
       "      <td>46</td>\n",
       "      <td>192</td>\n",
       "      <td>60</td>\n",
       "      <td>1</td>\n",
       "      <td>54.0</td>\n",
       "    </tr>\n",
       "    <tr>\n",
       "      <td>4</td>\n",
       "      <td>3</td>\n",
       "      <td>0</td>\n",
       "      <td>55</td>\n",
       "      <td>170</td>\n",
       "      <td>64</td>\n",
       "      <td>1</td>\n",
       "      <td>63.3</td>\n",
       "    </tr>\n",
       "  </tbody>\n",
       "</table>\n",
       "</div>"
      ],
      "text/plain": [
       "   Person  gender  Age  Height  pre.weight  Diet  weight6weeks\n",
       "0      25       0   41     171          60     2          60.0\n",
       "1      26       0   32     174         103     2         103.0\n",
       "2       1       0   22     159          58     1          54.2\n",
       "3       2       0   46     192          60     1          54.0\n",
       "4       3       0   55     170          64     1          63.3"
      ]
     },
     "execution_count": 13,
     "metadata": {},
     "output_type": "execute_result"
    }
   ],
   "source": [
    "df = pd.read_csv('Diet_R.csv')\n",
    "df.head(5)"
   ]
  },
  {
   "cell_type": "code",
   "execution_count": 14,
   "metadata": {},
   "outputs": [
    {
     "name": "stdout",
     "output_type": "stream",
     "text": [
      "    gender  Age  Height  pre.weight  Diet\n",
      "0        0   41     171          60     2\n",
      "1        0   32     174         103     2\n",
      "2        0   22     159          58     1\n",
      "3        0   46     192          60     1\n",
      "4        0   55     170          64     1\n",
      "..     ...  ...     ...         ...   ...\n",
      "73       1   35     183          83     3\n",
      "74       1   49     177          84     3\n",
      "75       1   28     164          85     3\n",
      "76       1   40     167          87     3\n",
      "77       1   51     175          88     3\n",
      "\n",
      "[78 rows x 5 columns]\n"
     ]
    }
   ],
   "source": [
    "X = df.iloc[:, 1:6]\n",
    "Y = np.asarray(df.iloc[:, 6]).reshape(-1,1)\n",
    "print (X) # show the selected variables"
   ]
  },
  {
   "cell_type": "code",
   "execution_count": 15,
   "metadata": {},
   "outputs": [],
   "source": [
    "X_train,X_test,Y_train,Y_test=train_test_split(X,Y,train_size=0.70, random_state=0)"
   ]
  },
  {
   "cell_type": "code",
   "execution_count": 16,
   "metadata": {},
   "outputs": [],
   "source": [
    "scaler = preprocessing.StandardScaler()\n",
    "\n",
    "X_train = scaler.fit_transform(X_train)\n",
    "Y_train = scaler.fit_transform(Y_train)\n",
    "X_test = scaler.fit_transform(X_test)\n",
    "Y_test = scaler.fit_transform(Y_test)\n",
    "\n",
    "Y_train = Y_train.reshape(-1)\n",
    "Y_test = Y_test.reshape(-1)"
   ]
  },
  {
   "cell_type": "code",
   "execution_count": 17,
   "metadata": {},
   "outputs": [],
   "source": [
    "# define the LR function \n",
    "MLR = LinearRegression()  \n",
    "\n",
    "#Define the RFR function with the set of data to be used for learning/training \n",
    "MLR = MLR.fit(X_train, Y_train) "
   ]
  },
  {
   "cell_type": "markdown",
   "metadata": {},
   "source": [
    "## Train the LR model"
   ]
  },
  {
   "cell_type": "code",
   "execution_count": 18,
   "metadata": {},
   "outputs": [],
   "source": [
    "MLR_pred_train_ZPT = MLR.predict(X_train)\n",
    "MLR_pred_test_ZPT = MLR.predict(X_test)"
   ]
  },
  {
   "cell_type": "markdown",
   "metadata": {},
   "source": [
    "## Data Visualisation "
   ]
  },
  {
   "cell_type": "code",
   "execution_count": 25,
   "metadata": {},
   "outputs": [
    {
     "data": {
      "image/png": "[encoded data removed]",
      "text/plain": [
       "<Figure size 360x288 with 1 Axes>"
      ]
     },
     "metadata": {
      "needs_background": "light"
     },
     "output_type": "display_data"
    }
   ],
   "source": [
    "#Define the size of the figure\n",
    "plt.figure(figsize=(5,4))\n",
    "\n",
    "# Define the color, label, marker\n",
    "plt.scatter(MLR_pred_train_ZPT,Y_train, alpha=0.9, color='navy',marker='>',label='Training')\n",
    "plt.scatter(MLR_pred_test_ZPT, Y_test, alpha=0.8, color='black', marker='o',label='Testing')\n",
    "\n",
    "# Define the position of legend \n",
    "plt.legend(loc='upper left')#, prop={'size':12})\n",
    "r_squared = 0.91\n",
    "NSE = 0.90\n",
    "RMSE = 0.32\n",
    "MAE = 0.27\n",
    "\n",
    "# Define the name, fontsize of x and y axis labels,\n",
    "plt.ylabel('Normalised predicted values ', fontname='times new roman', fontsize=14)\n",
    "plt.xlabel('Normalised observed values', fontname='times new roman', fontsize=14)\n",
    "\n",
    "# Set the limits fir x and y axis \n",
    "plt.xlim(0.0,1.1)\n",
    "plt.ylim(0.0,1.1)\n",
    "\n",
    "#Define the title of the table, position and sise\n",
    "plt.title('(MLR)', fontname='times new roman', fontsize=12)\n",
    "\n",
    "#Plot the scatter diagram showing the data generalization of the models\n",
    "plt.plot(np.unique(Y_test),np.poly1d(np.polyfit(MLR_pred_test_ZPT,Y_test, 1))(np.unique(Y_test)))\n",
    "#plt.plot(np.unique(Y_train),np.poly1d(np.polyfit(MLR_pred_train_ZPT,Y_train, 1))(np.unique(Y_train)))\n",
    "\n",
    "# Define the position of R2, NSE, RMSE, MAE within the scater plot diagram\n",
    "plt.text(0.7,0.4, 'R²=%0.2f'%r_squared)\n",
    "plt.text(0.7,0.3, 'NSE=%0.2f'%NSE)\n",
    "plt.text(0.7,0.2, 'RMSE=%0.2f'%RMSE)\n",
    "plt.text(0.7,0.1, 'MAE=%0.2f'%MAE)\n",
    "plt.show()\n"
   ]
  },
  {
   "cell_type": "code",
   "execution_count": 19,
   "metadata": {},
   "outputs": [],
   "source": [
    "#Define the errors\n",
    "#root mean squared error (RMSE)\n",
    "def RMSE(dataset_pred, dataset_obs):\n",
    "    p = 0\n",
    "    for i in range(len(dataset_pred)):\n",
    "        u = (dataset_obs[i] - dataset_pred[i])\n",
    "        p += u*u\n",
    "    \n",
    "    #rmse = #np.round((np.sqrt(p)/(len(dataset_obs))), 2)\n",
    "    rmse= sqrt(p/(len(dataset_obs)))\n",
    "    return rmse\n",
    "\n",
    "# mean absolute error (MAE)\n",
    "def MAE(dataset_pred, dataset_obs):\n",
    "    p = 0\n",
    "    for i in range(len(dataset_pred)):\n",
    "        u = abs(dataset_obs[i] - dataset_pred[i])\n",
    "        p += u\n",
    "    mae = p/(len(dataset_obs))\n",
    "    return mae\n",
    "\n",
    "#Nash Sutcliffe efficiency rating (NSE)\n",
    "def NSE(dataset_pred, dataset_obs):\n",
    "    p1 = 0\n",
    "    p2 = 0\n",
    "    for i in range(len(dataset_pred)):\n",
    "        u1 = (dataset_obs[i] - dataset_pred[i])**2\n",
    "        u2 = (dataset_obs[i] - np.mean(dataset_obs))**2\n",
    "        p1 += u1\n",
    "        p2 += u2\n",
    "    nse = 1 - (p1/p2)        \n",
    "    return nse "
   ]
  },
  {
   "cell_type": "markdown",
   "metadata": {},
   "source": [
    "## Mean Absolute Error"
   ]
  },
  {
   "cell_type": "code",
   "execution_count": 20,
   "metadata": {},
   "outputs": [
    {
     "data": {
      "text/plain": [
       "[0.1926155861504687, 0.2661329691197524]"
      ]
     },
     "execution_count": 20,
     "metadata": {},
     "output_type": "execute_result"
    }
   ],
   "source": [
    "MAE_train = MAE(MLR_pred_train_ZPT, Y_train)\n",
    "MAE_test = MAE(MLR_pred_test_ZPT, Y_test)\n",
    "\n",
    "[MAE_train, MAE_test]"
   ]
  },
  {
   "cell_type": "markdown",
   "metadata": {},
   "source": [
    "## Root mean squared error"
   ]
  },
  {
   "cell_type": "code",
   "execution_count": 21,
   "metadata": {},
   "outputs": [
    {
     "data": {
      "text/plain": [
       "[0.24418328349298457, 0.3238686807109074]"
      ]
     },
     "execution_count": 21,
     "metadata": {},
     "output_type": "execute_result"
    }
   ],
   "source": [
    "RMSE_train = RMSE(MLR_pred_train_ZPT, Y_train)\n",
    "RMSE_test = RMSE(MLR_pred_test_ZPT, Y_test)\n",
    "\n",
    "[RMSE_train, RMSE_test]"
   ]
  },
  {
   "cell_type": "markdown",
   "metadata": {},
   "source": [
    "## Correlation coefficient"
   ]
  },
  {
   "cell_type": "code",
   "execution_count": 22,
   "metadata": {},
   "outputs": [
    {
     "data": {
      "text/plain": [
       "[0.9697290982860031, 0.946212739530604]"
      ]
     },
     "execution_count": 22,
     "metadata": {},
     "output_type": "execute_result"
    }
   ],
   "source": [
    "_,_,r_train,_,_ = ss.linregress(Y_train, MLR_pred_train_ZPT)\n",
    "_,_,r_test,_,_ = ss.linregress(Y_test, MLR_pred_test_ZPT)\n",
    "\n",
    "[r_train, r_test]"
   ]
  },
  {
   "cell_type": "markdown",
   "metadata": {},
   "source": [
    "## Nash Sutcliffe efficiency"
   ]
  },
  {
   "cell_type": "code",
   "execution_count": 23,
   "metadata": {},
   "outputs": [
    {
     "data": {
      "text/plain": [
       "[0.9403745240625847, 0.8951090776545763]"
      ]
     },
     "execution_count": 23,
     "metadata": {},
     "output_type": "execute_result"
    }
   ],
   "source": [
    "NSE_train = NSE(MLR_pred_train_ZPT, Y_train)\n",
    "NSE_test = NSE(MLR_pred_test_ZPT, Y_test)\n",
    "\n",
    "[NSE_train, NSE_test]"
   ]
  },
  {
   "cell_type": "code",
   "execution_count": 11,
   "metadata": {},
   "outputs": [],
   "source": [
    "np.savetxt(\"LSMLR_pred_test_ZPT.csv\",MLR_pred_test_ZPT,delimiter =\",\")"
   ]
  },
  {
   "cell_type": "code",
   "execution_count": null,
   "metadata": {},
   "outputs": [],
   "source": []
  }
 ],
 "metadata": {
  "kernelspec": {
   "display_name": "Python 3",
   "language": "python",
   "name": "python3"
  },
  "language_info": {
   "codemirror_mode": {
    "name": "ipython",
    "version": 3
   },
   "file_extension": ".py",
   "mimetype": "text/x-python",
   "name": "python",
   "nbconvert_exporter": "python",
   "pygments_lexer": "ipython3",
   "version": "3.7.4"
  }
 },
 "nbformat": 4,
 "nbformat_minor": 4
}
