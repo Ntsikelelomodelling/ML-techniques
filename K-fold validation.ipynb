{
 "cells": [
  {
   "cell_type": "markdown",
   "metadata": {},
   "source": [
    "# K-Fold validation"
   ]
  },
  {
   "cell_type": "code",
   "execution_count": 2,
   "metadata": {},
   "outputs": [],
   "source": [
    "#library for data analsysis\n",
    "import numpy as np\n",
    "\n",
    "# library to handle data in a vectorized manner\n",
    "import pandas as pd\n",
    "\n",
    "## Matplotlib and associated plotting modules\n",
    "import matplotlib.pyplot as plt\n",
    "\n",
    "# To access statistics functions\n",
    "import scipy.stats as ss\n",
    "\n",
    "# Import support vector machines regression function \n",
    "from sklearn import svm\n",
    "\n",
    "# To compute the square root function \n",
    "from math import sqrt\n",
    "\n",
    "# Optinal, but execution of this command ensures the plot displayed directly below the code cell that produced it. \n",
    "# The resulting plots will then also be stored in the notebook document.\n",
    "%matplotlib inline\n",
    "import matplotlib\n",
    "font = {'family' : 'Times new Roman',\n",
    "        'size'   : 15}\n",
    "\n",
    "matplotlib.rc('font', **font)\n",
    "\n",
    "import scipy.stats as zscore\n",
    "from sklearn.ensemble import RandomForestRegressor\n",
    "from sklearn.model_selection import train_test_split\n",
    "from sklearn import preprocessing\n",
    "from math import sqrt\n",
    "%matplotlib inline\n",
    "from numpy import array\n",
    "from sklearn.model_selection import KFold\n",
    "from sklearn.model_selection import cross_val_score\n",
    "#from sklearn import datasets"
   ]
  },
  {
   "cell_type": "code",
   "execution_count": 3,
   "metadata": {},
   "outputs": [],
   "source": [
    "#Load the data\n",
    "#data=datasets.load_boston()\n",
    "#define the predictors and target value\n",
    "#df = pd.DataFrame(data.data)\n",
    "#y = pd.DataFrame(data.target)\n",
    "\n",
    "df = pd.read_csv('Diet_R.csv')\n",
    "\n",
    "#df.head(5)\n",
    "#Define the predictors\n",
    "#X,y =pd.read_csv('ZnO.csv')\n",
    "#return_X_y = True\n",
    "#X.shape,y.shape\n",
    "\n",
    "#X = df.iloc[:, 0:7]\n",
    "#y = np.asarray(df.iloc[:, 7]).reshape(-1,1)\n",
    "#X=pd.DataFrame(df)\n",
    "#y=pd.DataFrame(df.target)\n",
    "#X= np.asarray(df.iloc[:,0:-1])\n",
    "#y= np.asarray(df.iloc[:,-1]).reshape(-1, 1)\n",
    "\n"
   ]
  },
  {
   "cell_type": "code",
   "execution_count": 11,
   "metadata": {},
   "outputs": [
    {
     "name": "stdout",
     "output_type": "stream",
     "text": [
      "    gender  Age  Height  pre.weight  Diet\n",
      "0        0   41     171          60     2\n",
      "1        0   32     174         103     2\n",
      "2        0   22     159          58     1\n",
      "3        0   46     192          60     1\n",
      "4        0   55     170          64     1\n",
      "..     ...  ...     ...         ...   ...\n",
      "73       1   35     183          83     3\n",
      "74       1   49     177          84     3\n",
      "75       1   28     164          85     3\n",
      "76       1   40     167          87     3\n",
      "77       1   51     175          88     3\n",
      "\n",
      "[78 rows x 5 columns]\n"
     ]
    }
   ],
   "source": [
    "X = df.iloc[:, 1:6]\n",
    "Y = df.iloc[:, 6]\n",
    "print (X) # show the selected variables"
   ]
  },
  {
   "cell_type": "code",
   "execution_count": 12,
   "metadata": {},
   "outputs": [
    {
     "data": {
      "text/plain": [
       "((78, 5), (78,))"
      ]
     },
     "execution_count": 12,
     "metadata": {},
     "output_type": "execute_result"
    }
   ],
   "source": [
    "X.shape,Y.shape"
   ]
  },
  {
   "cell_type": "code",
   "execution_count": 4,
   "metadata": {},
   "outputs": [
    {
     "data": {
      "text/html": [
       "<div>\n",
       "<style scoped>\n",
       "    .dataframe tbody tr th:only-of-type {\n",
       "        vertical-align: middle;\n",
       "    }\n",
       "\n",
       "    .dataframe tbody tr th {\n",
       "        vertical-align: top;\n",
       "    }\n",
       "\n",
       "    .dataframe thead th {\n",
       "        text-align: right;\n",
       "    }\n",
       "</style>\n",
       "<table border=\"1\" class=\"dataframe\">\n",
       "  <thead>\n",
       "    <tr style=\"text-align: right;\">\n",
       "      <th></th>\n",
       "      <th>0</th>\n",
       "      <th>1</th>\n",
       "      <th>2</th>\n",
       "      <th>3</th>\n",
       "      <th>4</th>\n",
       "      <th>5</th>\n",
       "      <th>6</th>\n",
       "    </tr>\n",
       "  </thead>\n",
       "  <tbody>\n",
       "    <tr>\n",
       "      <th>0</th>\n",
       "      <td>0.11</td>\n",
       "      <td>1.0</td>\n",
       "      <td>0.18</td>\n",
       "      <td>0.02</td>\n",
       "      <td>0.01</td>\n",
       "      <td>0.37</td>\n",
       "      <td>0.00</td>\n",
       "    </tr>\n",
       "    <tr>\n",
       "      <th>1</th>\n",
       "      <td>0.11</td>\n",
       "      <td>1.0</td>\n",
       "      <td>0.18</td>\n",
       "      <td>0.02</td>\n",
       "      <td>0.01</td>\n",
       "      <td>0.37</td>\n",
       "      <td>0.01</td>\n",
       "    </tr>\n",
       "    <tr>\n",
       "      <th>2</th>\n",
       "      <td>0.11</td>\n",
       "      <td>1.0</td>\n",
       "      <td>0.18</td>\n",
       "      <td>0.02</td>\n",
       "      <td>0.01</td>\n",
       "      <td>0.37</td>\n",
       "      <td>0.02</td>\n",
       "    </tr>\n",
       "    <tr>\n",
       "      <th>3</th>\n",
       "      <td>0.11</td>\n",
       "      <td>1.0</td>\n",
       "      <td>0.18</td>\n",
       "      <td>0.02</td>\n",
       "      <td>0.01</td>\n",
       "      <td>0.37</td>\n",
       "      <td>0.03</td>\n",
       "    </tr>\n",
       "    <tr>\n",
       "      <th>4</th>\n",
       "      <td>0.11</td>\n",
       "      <td>1.0</td>\n",
       "      <td>0.18</td>\n",
       "      <td>0.02</td>\n",
       "      <td>0.01</td>\n",
       "      <td>0.37</td>\n",
       "      <td>0.04</td>\n",
       "    </tr>\n",
       "  </tbody>\n",
       "</table>\n",
       "</div>"
      ],
      "text/plain": [
       "      0    1     2     3     4     5     6\n",
       "0  0.11  1.0  0.18  0.02  0.01  0.37  0.00\n",
       "1  0.11  1.0  0.18  0.02  0.01  0.37  0.01\n",
       "2  0.11  1.0  0.18  0.02  0.01  0.37  0.02\n",
       "3  0.11  1.0  0.18  0.02  0.01  0.37  0.03\n",
       "4  0.11  1.0  0.18  0.02  0.01  0.37  0.04"
      ]
     },
     "execution_count": 4,
     "metadata": {},
     "output_type": "execute_result"
    }
   ],
   "source": [
    "X.head()"
   ]
  },
  {
   "cell_type": "code",
   "execution_count": 13,
   "metadata": {},
   "outputs": [],
   "source": [
    "#define Kfold class and train the model using K as 5\n",
    "from sklearn.metrics import mean_squared_error\n",
    "from math import sqrt\n",
    "\n",
    "kF= KFold(n_splits=10, shuffle = True, random_state=0)\n",
    "rf_reg=RandomForestRegressor()"
   ]
  },
  {
   "cell_type": "code",
   "execution_count": 14,
   "metadata": {},
   "outputs": [
    {
     "name": "stdout",
     "output_type": "stream",
     "text": [
      "Fold score(RMSE): 4.7563904381368864\n",
      "Average K fold score; 4.7563904381368864\n",
      "Fold score(RMSE): 4.420148470357078\n",
      "Average K fold score; 4.420148470357078\n",
      "Fold score(RMSE): 4.204377678880273\n",
      "Average K fold score; 4.204377678880273\n",
      "Fold score(RMSE): 4.299352058740945\n",
      "Average K fold score; 4.299352058740945\n",
      "Fold score(RMSE): 4.281803650332416\n",
      "Average K fold score; 4.281803650332416\n"
     ]
    },
    {
     "name": "stderr",
     "output_type": "stream",
     "text": [
      "C:\\Users\\khany\\Anaconda3\\lib\\site-packages\\sklearn\\ensemble\\forest.py:245: FutureWarning: The default value of n_estimators will change from 10 in version 0.20 to 100 in 0.22.\n",
      "  \"10 in version 0.20 to 100 in 0.22.\", FutureWarning)\n"
     ]
    }
   ],
   "source": [
    "#Perfom  the training repeatedly on each k-1 folds (x_train, y_train) and use the kth fold(x_test,y_test).\n",
    "#Append the score from every iteration to the scores list\n",
    "os_y=[]\n",
    "os_pred=[]\n",
    "scores=[]\n",
    "for i in range(5):\n",
    "    result=next(kF.split(df), None)\n",
    "    \n",
    "    x_train=X.iloc[result[0]]\n",
    "    x_test =X.iloc[result[1]] \n",
    "    y_train = Y.iloc[result[0]]\n",
    "    y_test =Y.iloc[result[1]]\n",
    "    \n",
    "    model = rf_reg.fit(x_train,y_train)\n",
    "    pred = rf_reg.predict(x_test)\n",
    "    pred1=rf_reg.predict(x_train)\n",
    "    os_y.append(y_test)\n",
    "    os_pred.append(pred)\n",
    "    \n",
    "    #This measure fold's RMSE\n",
    "    score= np.sqrt(mean_squared_error(os_pred, os_y))\n",
    "    print('Fold score(RMSE):', score)\n",
    "    print('Average K fold score;', np.mean(score))\n",
    "    #\n",
    "    #score1= np.sqrt(mean_squared_error(pred1, y_train))\n",
    "    #print('Fold score(RMSE1):', score1)\n",
    "    #print('Average K fold score1;', np.mean(score1))\n",
    "    #\n",
    "    #score1= mean_squared_error(pred, y_test)\n",
    "    #print('Fold score(MSE):', score1)\n",
    "    #\n",
    "    #_,_,r_test,_,_ = ss.linregress(pred, y_test)\n",
    "   # print('Fold score(R):', _,_,r_test,_,_)\n",
    "    \n",
    "    #_,_,r_test,_,_ = ss.linregress(Y_test, RFR_pred_test_ZPT)\n",
    "    #cv_r2_score=cross_val_score(rf_reg,X,y ,cv=5, scoring='r2')\n",
    "   #print(cv_r2_score)\n",
    "   # print(\"R2:{}\".format(np.mean(cv_r2_score)))\n",
    "    #scores.append(model.score(x_test, y_test))\n",
    "    #print('Scores from each Iteration: ', scores)\n",
    "    #print('Average K fold score;', np.mean(scores))"
   ]
  },
  {
   "cell_type": "code",
   "execution_count": 23,
   "metadata": {},
   "outputs": [
    {
     "name": "stdout",
     "output_type": "stream",
     "text": [
      "        0     1     2     3     4     5     6\n",
      "0    0.11  1.00  0.18  0.02  0.01  0.37  0.00\n",
      "2    0.11  1.00  0.18  0.02  0.01  0.37  0.02\n",
      "3    0.11  1.00  0.18  0.02  0.01  0.37  0.03\n",
      "4    0.11  1.00  0.18  0.02  0.01  0.37  0.04\n",
      "5    0.11  1.00  0.18  0.02  0.01  0.37  0.05\n",
      "6    0.11  1.00  0.18  0.02  0.01  0.37  0.06\n",
      "7    0.11  1.00  0.46  0.02  0.05  0.50  0.00\n",
      "8    0.11  1.00  0.46  0.02  0.05  0.50  0.01\n",
      "9    0.11  1.00  0.46  0.02  0.05  0.50  0.02\n",
      "11   0.11  1.00  0.46  0.02  0.05  0.50  0.04\n",
      "13   0.11  1.00  0.46  0.02  0.05  0.50  0.06\n",
      "14   0.11  1.00  0.60  0.02  0.18  0.57  0.00\n",
      "15   0.11  1.00  0.60  0.02  0.18  0.57  0.01\n",
      "16   0.11  1.00  0.60  0.02  0.18  0.57  0.02\n",
      "17   0.11  1.00  0.60  0.02  0.18  0.57  0.03\n",
      "18   0.11  1.00  0.60  0.02  0.18  0.57  0.04\n",
      "19   0.11  1.00  0.60  0.02  0.18  0.57  0.05\n",
      "20   0.11  1.00  0.60  0.02  0.18  0.57  0.06\n",
      "22   0.17  0.66  0.77  0.02  0.10  0.51  1.00\n",
      "23   0.28  0.66  0.60  0.02  0.50  0.69  1.00\n",
      "24   0.17  0.66  0.77  0.05  0.50  0.51  1.00\n",
      "25   0.28  0.66  0.60  0.05  0.02  0.69  1.00\n",
      "26   0.00  0.66  0.92  0.05  0.10  0.32  1.00\n",
      "27   0.28  0.66  0.60  0.20  0.10  0.69  1.00\n",
      "28   0.44  0.66  0.92  0.20  0.50  0.32  1.00\n",
      "29   0.17  0.66  0.77  0.20  0.02  0.51  1.00\n",
      "30   0.28  0.66  0.92  0.02  0.50  0.32  1.00\n",
      "31   0.06  0.66  0.77  0.02  0.02  0.51  1.00\n",
      "32   0.17  0.66  0.60  0.02  0.10  0.69  1.00\n",
      "33   0.06  0.66  0.77  0.05  0.10  0.51  1.00\n",
      "..    ...   ...   ...   ...   ...   ...   ...\n",
      "411  0.44  0.00  0.92  0.00  0.10  0.58  0.03\n",
      "412  0.44  0.00  0.92  0.00  0.10  0.58  0.04\n",
      "413  0.44  0.00  0.92  0.00  0.10  0.58  0.04\n",
      "414  0.44  0.00  0.92  0.00  0.10  0.58  0.05\n",
      "416  0.00  0.00  0.92  0.00  0.10  0.58  0.01\n",
      "417  0.00  0.00  0.92  0.00  0.10  0.58  0.01\n",
      "418  0.00  0.00  0.92  0.00  0.10  0.58  0.02\n",
      "420  0.00  0.00  0.92  0.00  0.10  0.58  0.03\n",
      "421  0.00  0.00  0.92  0.00  0.10  0.58  0.04\n",
      "422  0.00  0.00  0.92  0.00  0.10  0.58  0.05\n",
      "423  1.00  0.00  0.92  0.00  0.10  0.82  0.00\n",
      "424  1.00  0.00  0.92  0.00  0.10  0.82  0.01\n",
      "425  1.00  0.00  0.92  0.00  0.10  0.82  0.01\n",
      "426  1.00  0.00  0.92  0.00  0.10  0.82  0.02\n",
      "427  1.00  0.00  0.92  0.00  0.10  0.82  0.03\n",
      "428  1.00  0.00  0.92  0.00  0.10  0.69  0.00\n",
      "429  1.00  0.00  0.92  0.00  0.10  0.69  0.00\n",
      "430  1.00  0.00  0.92  0.00  0.10  0.69  0.02\n",
      "431  1.00  0.00  0.92  0.00  0.10  0.69  0.02\n",
      "432  1.00  0.00  0.92  0.00  0.10  0.69  0.03\n",
      "433  1.00  0.00  0.92  0.00  0.10  0.57  0.00\n",
      "434  1.00  0.00  0.92  0.00  0.10  0.57  0.02\n",
      "435  1.00  0.00  0.92  0.00  0.10  0.57  0.03\n",
      "436  1.00  0.00  0.92  0.00  0.10  0.57  0.04\n",
      "437  1.00  0.00  0.92  0.00  0.10  0.57  0.05\n",
      "439  1.00  0.00  0.92  1.00  0.10  0.57  0.00\n",
      "440  1.00  0.00  0.92  0.10  0.10  0.57  0.00\n",
      "442  1.00  0.00  0.92  0.01  0.10  0.57  0.00\n",
      "443  1.00  0.00  0.92  0.01  0.10  0.57  0.03\n",
      "444  1.00  0.00  0.92  0.00  0.10  0.57  0.00\n",
      "\n",
      "[401 rows x 7 columns] 1      0.02\n",
      "10     0.06\n",
      "12     0.09\n",
      "21     0.22\n",
      "37     0.06\n",
      "54     0.02\n",
      "76     0.22\n",
      "90     0.25\n",
      "96     0.04\n",
      "102    0.05\n",
      "118    0.37\n",
      "122    0.01\n",
      "135    0.28\n",
      "141    0.51\n",
      "159    0.37\n",
      "175    0.35\n",
      "200    0.62\n",
      "206    0.49\n",
      "208    0.01\n",
      "213    0.07\n",
      "218    0.06\n",
      "233    0.12\n",
      "239    0.18\n",
      "259    0.18\n",
      "274    0.28\n",
      "283    0.21\n",
      "301    0.13\n",
      "318    0.00\n",
      "322    0.09\n",
      "340    0.01\n",
      "346    0.11\n",
      "347    0.13\n",
      "361    0.06\n",
      "362    0.06\n",
      "365    0.08\n",
      "379    0.04\n",
      "385    0.02\n",
      "402    0.32\n",
      "407    0.09\n",
      "409    0.24\n",
      "415    0.09\n",
      "419    0.17\n",
      "438    0.07\n",
      "441    0.06\n",
      "445    0.21\n",
      "Name: 7, dtype: float64\n"
     ]
    }
   ],
   "source": [
    "print(x_train, y_test)"
   ]
  },
  {
   "cell_type": "code",
   "execution_count": 15,
   "metadata": {},
   "outputs": [
    {
     "data": {
      "text/plain": [
       "0.7580122655430358"
      ]
     },
     "execution_count": 15,
     "metadata": {},
     "output_type": "execute_result"
    }
   ],
   "source": [
    "model.score(x_test, y_test)"
   ]
  },
  {
   "cell_type": "code",
   "execution_count": 16,
   "metadata": {},
   "outputs": [
    {
     "data": {
      "text/plain": [
       "0.9769657743473514"
      ]
     },
     "execution_count": 16,
     "metadata": {},
     "output_type": "execute_result"
    }
   ],
   "source": [
    "model.score(x_train, y_train)"
   ]
  },
  {
   "cell_type": "code",
   "execution_count": 17,
   "metadata": {},
   "outputs": [],
   "source": [
    "def RMSE(dataset_pred, dataset_obs):\n",
    "    p = 0\n",
    "    for i in range(len(dataset_pred)):\n",
    "        u = (dataset_obs[i] - dataset_pred[i])\n",
    "        p += u*u\n",
    "    #rmse = #np.round((np.sqrt(p)/(len(dataset_obs))), 2)\n",
    "    rmse= sqrt(p/(len(dataset_obs)))\n",
    "    return rmse\n",
    "\n",
    "def MAE(dataset_pred, dataset_obs):\n",
    "    p = 0\n",
    "    for i in range(len(dataset_pred)):\n",
    "        u = abs(dataset_obs[i] - dataset_pred[i])\n",
    "        p += u\n",
    "    mae = p/(len(dataset_obs))\n",
    "    return mae\n",
    "\n",
    "def NSE(dataset_pred, dataset_obs):\n",
    "    p1 = 0\n",
    "    p2 = 0\n",
    "    for i in range(len(dataset_pred)):\n",
    "        u1 = (dataset_obs[i] - dataset_pred[i])**2\n",
    "        u2 = (dataset_obs[i] - np.mean(dataset_obs))**2\n",
    "        p1 += u1\n",
    "        p2 += u2\n",
    "    nse = 1 - (p1/p2)        \n",
    "    return nse \n",
    "\n",
    "def MSE(dataset_pred, dataset_obs):\n",
    "    p = 0\n",
    "    for i in range(len(dataset_pred)):\n",
    "        u = (dataset_obs[i] - dataset_pred[i])**2\n",
    "        p += u\n",
    "    mse = (p/len(dataset_obs))\n",
    "    return mse"
   ]
  },
  {
   "cell_type": "code",
   "execution_count": 18,
   "metadata": {},
   "outputs": [
    {
     "name": "stdout",
     "output_type": "stream",
     "text": [
      "[0.70961595 0.86811386 0.50849141 0.64216327 0.28347846]\n",
      "R2:0.6023725871525916\n"
     ]
    }
   ],
   "source": [
    "cv_r2_score=cross_val_score(rf_reg,X,Y ,cv=5, scoring='r2')\n",
    "print(cv_r2_score)\n",
    "print(\"R2:{}\".format(np.mean(cv_r2_score)))\n",
    "#Predicted=model.predict(x_train)\n",
    "#print(Predicted)\n",
    "#Predicted2=model.predict(x_test)\n",
    "#print(Predicted2)"
   ]
  },
  {
   "cell_type": "code",
   "execution_count": null,
   "metadata": {},
   "outputs": [],
   "source": []
  },
  {
   "cell_type": "code",
   "execution_count": null,
   "metadata": {},
   "outputs": [],
   "source": []
  },
  {
   "cell_type": "code",
   "execution_count": null,
   "metadata": {},
   "outputs": [],
   "source": []
  }
 ],
 "metadata": {
  "kernelspec": {
   "display_name": "Python 3",
   "language": "python",
   "name": "python3"
  },
  "language_info": {
   "codemirror_mode": {
    "name": "ipython",
    "version": 3
   },
   "file_extension": ".py",
   "mimetype": "text/x-python",
   "name": "python",
   "nbconvert_exporter": "python",
   "pygments_lexer": "ipython3",
   "version": "3.7.4"
  }
 },
 "nbformat": 4,
 "nbformat_minor": 4
}
